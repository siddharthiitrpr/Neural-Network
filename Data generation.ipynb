{
 "cells": [
  {
   "cell_type": "code",
   "execution_count": 17,
   "id": "49b9af91",
   "metadata": {},
   "outputs": [
    {
     "name": "stdout",
     "output_type": "stream",
     "text": [
      "DONE\n"
     ]
    }
   ],
   "source": [
    "#importing libraries\n",
    "import os\n",
    "import numpy as np\n",
    "import random\n",
    "\n",
    "#Random seed\n",
    "random.seed(72)\n",
    "\n",
    "# Reading data of original DAT file\n",
    "with open('prop.dat', 'r') as original_file:\n",
    "    original_data = original_file.readlines()\n",
    "\n",
    "# Modifing content of DAT file using mask matrix\n",
    "#first creating a mask matrix or required area\n",
    "#then coping content of original DAT file to new file with replacing the contnts with mask matrix\n",
    "for i in range(500):\n",
    "    # Generate a random matrix with dimensions 20x20\n",
    "    matrix = np.full((20, 20), 70000000000)\n",
    "    \n",
    "    # Randomly generating 2 holes in the beam with random length and beadth\n",
    "    num = 2 #generating 2 holes in the beam\n",
    "    for _ in range(num):\n",
    "        pos_x = random.randint(0, 16)  \n",
    "        pos_y = random.randint(0, 13)  \n",
    "        length = random.randint(1, min(3, 20 - pos_x))  \n",
    "        breadth = random.randint(1, min(3, 20 - pos_y))  # Adjusted to ensure the mask fits within bounds\n",
    "        mask = np.full((size_x, size_y), 1)\n",
    "        \n",
    "        # Updating the required area with the mask matrix\n",
    "        matrix[pos_x:pos_x+length, pos_y:pos_y+breadth] = mask\n",
    "    \n",
    "    # reshaping the matrix to 1D\n",
    "    data = matrix.reshape(400)\n",
    "    \n",
    "    # Modifing content of the original DAT file\n",
    "    modified_data = [original_data[0]]  # Copy the first line\n",
    "    for row in data:\n",
    "        modified_data.append(str(row) + '\\n')\n",
    "    modified_data.extend(original_data[401:])\n",
    "    \n",
    "    # Writing the modified content to new DAT file\n",
    "    with open(f'prop{i}.dat', 'w') as output_file:\n",
    "        output_file.writelines(modified_data)\n",
    "\n",
    "print(\"DONE\")\n"
   ]
  }
 ],
 "metadata": {
  "kernelspec": {
   "display_name": "Python 3 (ipykernel)",
   "language": "python",
   "name": "python3"
  },
  "language_info": {
   "codemirror_mode": {
    "name": "ipython",
    "version": 3
   },
   "file_extension": ".py",
   "mimetype": "text/x-python",
   "name": "python",
   "nbconvert_exporter": "python",
   "pygments_lexer": "ipython3",
   "version": "3.11.5"
  }
 },
 "nbformat": 4,
 "nbformat_minor": 5
}
